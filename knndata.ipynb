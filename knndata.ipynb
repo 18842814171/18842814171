{
 "nbformat": 4,
 "nbformat_minor": 0,
 "metadata": {
  "colab": {
   "provenance": [],
   "authorship_tag": "ABX9TyMyF68aYjHJVRGax+6HE36o"
  },
  "kernelspec": {
   "name": "python3",
   "display_name": "Python 3"
  },
  "language_info": {
   "name": "python"
  }
 },
 "cells": [
  {
   "cell_type": "code",
   "metadata": {
    "colab": {
     "base_uri": "https://localhost:8080/"
    },
    "id": "cYL6LFwxOIYW",
    "executionInfo": {
     "status": "ok",
     "timestamp": 1685061212056,
     "user_tz": -480,
     "elapsed": 81141,
     "user": {
      "displayName": "qing yang",
      "userId": "18395643287176615289"
     }
    },
    "outputId": "01b13669-9658-40b4-fb20-06bb6c96c6bb",
    "jupyter": {
     "is_executing": true
    }
   },
   "source": [
    "#!mkdir -p drive\n",
    "#"
   ],
   "outputs": [],
   "execution_count": null
  },
  {
   "cell_type": "code",
   "source": [
    "import os\n",
    "# 此处为google drive中的文件路径,drive为之前指定的工作根目录，要加上\n",
    "#os.chdir(\"drive/My Drive/2023kd\")"
   ],
   "metadata": {
    "id": "y1y_YWtjULnJ",
    "executionInfo": {
     "status": "ok",
     "timestamp": 1685061400059,
     "user_tz": -480,
     "elapsed": 718,
     "user": {
      "displayName": "qing yang",
      "userId": "18395643287176615289"
     }
    },
    "jupyter": {
     "is_executing": true
    }
   },
   "outputs": [],
   "execution_count": null
  },
  {
   "cell_type": "code",
   "source": [
    "import pandas as pd\n",
    "df=pd.read_csv('mobilegt-unifeaturedata-labelnumber.csv')\n",
    "df=df.drop(['Unnamed: 0'],axis=1)\n",
    "groupby_data=df.groupby(['25'])['25'].count()   #标签类别分类计数\n",
    "df"
   ],
   "metadata": {
    "id": "WOaIzYTtcGsQ"
   },
   "execution_count": null,
   "outputs": []
  },
  {
   "cell_type": "code",
   "source": [
    "df_1 = df.drop(df[(df['25']==1) | (df['25']==5)| (df['25']==8)| (df['25']==9)| (df['25']==10)].index)\n",
    "#df_1.to_csv('mobilegt-unifeaturedata-minority.csv',index = False)"
   ],
   "metadata": {
    "id": "-IMbnHrAfEpe",
    "executionInfo": {
     "status": "ok",
     "timestamp": 1685061430896,
     "user_tz": -480,
     "elapsed": 594,
     "user": {
      "displayName": "qing yang",
      "userId": "18395643287176615289"
     }
    }
   },
   "execution_count": 4,
   "outputs": []
  },
  {
   "cell_type": "code",
   "source": [
    "x=df_1.iloc[:,:-1]\n",
    "y=df_1.iloc[:,-1]\n",
    "from sklearn.neighbors import KNeighborsClassifier\n",
    "from sklearn.model_selection import train_test_split\n",
    "\n",
    "X_train,X_test,y_train,y_test = train_test_split(x,y,stratify=y,random_state=40,test_size=0.4)\n",
    "y_test = list(y_test)\n",
    "KNC = KNeighborsClassifier(n_neighbors=10).fit(X_train,y_train)\n",
    "y_pred = KNC.predict(X_test)"
   ],
   "metadata": {
    "id": "QjQsMRgakhRF",
    "executionInfo": {
     "status": "ok",
     "timestamp": 1685063560258,
     "user_tz": -480,
     "elapsed": 2088,
     "user": {
      "displayName": "qing yang",
      "userId": "18395643287176615289"
     }
    }
   },
   "execution_count": 32,
   "outputs": []
  },
  {
   "cell_type": "code",
   "source": [
    "mino_label = [0,2,3,4,6,7,11]\n",
    "y_pred_new = {}\n",
    "y_test_new = {}\n",
    "\n",
    "for l in mino_lable:\n",
    "  for i in range(len(y_test)):\n",
    "    if l in y_pred_new:\n",
    "      if y_test[i] == l:\n",
    "        y_pred_new[l].append(y_pred[i])\n",
    "        y_test_new[l].append(y_test[i])\n",
    "      else:\n",
    "        y_pred_new[y_test[i]].append(y_pred[i])\n",
    "        y_test_new[y_test[i]].append(y_test[i])\n",
    "    else:\n",
    "      if y_test[i] == l:\n",
    "        y_pred_new[l] = []\n",
    "        y_test_new[l] = []\n",
    "        y_pred_new[l].append(y_pred[i])\n",
    "        y_test_new[l].append(y_test[i])\n",
    "      else:\n",
    "        y_pred_new[y_test[i]].append(y_pred[i])\n",
    "        y_test_new[y_test[i]].append(y_test[i])\n",
    "\n",
    "for i in range(len(y_test)):\n",
    "  if y_test[i] in mino_label:\n",
    "    # print (y_test[i])\n",
    "    # print ('1111111111111111111111')\n",
    "    if y_test[i] in y_pred_new:\n",
    "      y_pred_new[y_test[i]].append(y_pred[i])\n",
    "      y_test_new[y_test[i]].append(y_test[i])\n",
    "    else:\n",
    "      y_pred_new[y_test[i]]=[]\n",
    "      y_test_new[y_test[i]]=[]\n",
    "      y_pred_new[y_test[i]].append(y_pred[i])\n",
    "      y_test_new[y_test[i]].append(y_test[i])"
   ],
   "metadata": {
    "id": "HH7JKWbXosXa",
    "executionInfo": {
     "status": "ok",
     "timestamp": 1685061451266,
     "user_tz": -480,
     "elapsed": 368,
     "user": {
      "displayName": "qing yang",
      "userId": "18395643287176615289"
     }
    }
   },
   "execution_count": 6,
   "outputs": []
  },
  {
   "cell_type": "code",
   "source": [
    "print(len(y_pred_new))"
   ],
   "metadata": {
    "colab": {
     "base_uri": "https://localhost:8080/"
    },
    "id": "iJbpatIft-yx",
    "executionInfo": {
     "status": "ok",
     "timestamp": 1685061461596,
     "user_tz": -480,
     "elapsed": 367,
     "user": {
      "displayName": "qing yang",
      "userId": "18395643287176615289"
     }
    },
    "outputId": "b0800a17-fb1b-4e54-8dfd-d16c2d70a019"
   },
   "execution_count": 7,
   "outputs": [
    {
     "output_type": "stream",
     "name": "stdout",
     "text": [
      "7\n"
     ]
    }
   ]
  },
  {
   "cell_type": "code",
   "source": [
    "from sklearn import metrics\n",
    "for i in mino_label:\n",
    "  label_true=y_test_new[i]\n",
    "  label_pred=y_pred_new[i]\n",
    "  print(type(label_pred))\n",
    "  ARI = metrics.adjusted_rand_score(label_true,label_pred)\n",
    "  FM = metrics.fowlkes_mallows_score(label_true,label_pred)\n",
    "\n",
    "  print(ARI,FM)"
   ],
   "metadata": {
    "colab": {
     "base_uri": "https://localhost:8080/"
    },
    "id": "ajEPR89yoara",
    "executionInfo": {
     "status": "ok",
     "timestamp": 1684897743558,
     "user_tz": -480,
     "elapsed": 635,
     "user": {
      "displayName": "qing yang",
      "userId": "18395643287176615289"
     }
    },
    "outputId": "24c885fa-7c7c-4283-f783-db197b91d961"
   },
   "execution_count": null,
   "outputs": [
    {
     "output_type": "stream",
     "name": "stdout",
     "text": [
      "<class 'list'>\n",
      "0.0 0.46191525636568714\n",
      "<class 'list'>\n",
      "0.0 0.7796081664696198\n",
      "<class 'list'>\n",
      "0.0 0.5682068802298305\n",
      "<class 'list'>\n",
      "0.0 0.6180694036829117\n",
      "<class 'list'>\n",
      "0.0 0.6254329187932717\n",
      "<class 'list'>\n",
      "0.0 0.6085795988997669\n",
      "<class 'list'>\n",
      "0.0 0.5641328520654737\n"
     ]
    }
   ]
  },
  {
   "cell_type": "code",
   "source": [
    "import math\n",
    "import numpy as np\n",
    "from sklearn import metrics\n",
    "def NMI(A,B):\n",
    "    # 样本点数\n",
    "    total = len(A)\n",
    "    A_ids = set(A)\n",
    "    B_ids = set(B)\n",
    "    # 互信息计算\n",
    "    MI = 0\n",
    "    eps = 1.4e-45\n",
    "    for idA in A_ids:\n",
    "        for idB in B_ids:\n",
    "            idAOccur = np.where(A==idA)    # 输出满足条件的元素的下标\n",
    "            #idABOccur = np.intersect1d(idAOccur,idBOccur)   # Find the intersection of two arrays.\n",
    "            px = 1.0*len(idAOccur[0])/total\n",
    "            py = 1.0*len(B)/total\n",
    "            pxy = 1.0*len(idAOccur[0])/total\n",
    "            print(px,py,pxy)\n",
    "            MI = MI + pxy*math.log(pxy/(px*py)+eps,2)\n",
    "            print(MI)\n",
    "    # 标准化互信息\n",
    "    Hx = 0\n",
    "    for idA in A_ids:\n",
    "        idAOccurCount = 1.0*len(np.where(A==idA)[0])\n",
    "        Hx = Hx - (idAOccurCount/total)*math.log(idAOccurCount/total+eps,2)\n",
    "        Hy = 0\n",
    "    for idB in B_ids:\n",
    "        idBOccurCount = 1.0*len(np.where(B==idB)[0])\n",
    "        Hy = Hy - (idBOccurCount/total)*math.log(idBOccurCount/total+eps,2)\n",
    "    MIhat = 2.0*MI/(Hx+Hy)\n",
    "    return MIhat"
   ],
   "metadata": {
    "id": "ANqQfQ2NeCVn",
    "executionInfo": {
     "status": "ok",
     "timestamp": 1685063042185,
     "user_tz": -480,
     "elapsed": 390,
     "user": {
      "displayName": "qing yang",
      "userId": "18395643287176615289"
     }
    }
   },
   "execution_count": 30,
   "outputs": []
  },
  {
   "cell_type": "code",
   "source": [
    "from sklearn import metrics\n",
    "for i in mino_label:\n",
    "  label_true=y_test_new[i]\n",
    "  label_pred=y_pred_new[i]\n",
    "  print(label_true)\n",
    "  print(NMI(label_pred,label_true))"
   ],
   "metadata": {
    "id": "dcWiA72Og6F9"
   },
   "execution_count": null,
   "outputs": []
  },
  {
   "cell_type": "markdown",
   "source": [
    "存储并获得少数类难分类样本过采样数据集："
   ],
   "metadata": {
    "id": "PZteiw7Ky8fK"
   }
  },
  {
   "cell_type": "markdown",
   "source": [],
   "metadata": {
    "id": "3lphZj79y8RF"
   }
  },
  {
   "cell_type": "code",
   "source": [
    "df_2 = df.drop(df[(df['25']==1) | (df['25']==2) | (df['25']==5) | (df['25']==8)| (df['25']==9)| (df['25']==10)].index)"
   ],
   "metadata": {
    "id": "O-LZzROpy7nl",
    "executionInfo": {
     "status": "ok",
     "timestamp": 1685067145487,
     "user_tz": -480,
     "elapsed": 836,
     "user": {
      "displayName": "qing yang",
      "userId": "18395643287176615289"
     }
    }
   },
   "execution_count": 34,
   "outputs": []
  },
  {
   "cell_type": "code",
   "source": [
    "df_2"
   ],
   "metadata": {
    "id": "7DhPIVEt1CVb"
   },
   "execution_count": null,
   "outputs": []
  },
  {
   "cell_type": "code",
   "source": [
    "x=df_2.iloc[:,:-1]\n",
    "y=df_2.iloc[:,-1]"
   ],
   "metadata": {
    "id": "z7crmkHFzU9T",
    "executionInfo": {
     "status": "ok",
     "timestamp": 1685067160866,
     "user_tz": -480,
     "elapsed": 358,
     "user": {
      "displayName": "qing yang",
      "userId": "18395643287176615289"
     }
    }
   },
   "execution_count": 36,
   "outputs": []
  },
  {
   "cell_type": "code",
   "source": [
    "!pip install imblearn"
   ],
   "metadata": {
    "id": "q6KPbjhg0-na"
   },
   "execution_count": null,
   "outputs": []
  },
  {
   "cell_type": "code",
   "source": [
    "from imblearn.combine import SMOTETomek\n",
    "from collections import Counter\n",
    "kos = SMOTETomek(random_state=40,sampling_strategy='all')  # 综合采样\n",
    "x_kos,y_kos = kos.fit_resample(x,y)\n",
    "print('综合采样后，训练集 y_kos 中的分类情况：{}'.format(Counter(y_kos)))"
   ],
   "metadata": {
    "colab": {
     "base_uri": "https://localhost:8080/"
    },
    "id": "V9jIVdM9zovs",
    "executionInfo": {
     "status": "ok",
     "timestamp": 1685067461637,
     "user_tz": -480,
     "elapsed": 14191,
     "user": {
      "displayName": "qing yang",
      "userId": "18395643287176615289"
     }
    },
    "outputId": "1ed30927-53a7-427a-a8cf-ec5436992fd6"
   },
   "execution_count": 43,
   "outputs": [
    {
     "output_type": "stream",
     "name": "stdout",
     "text": [
      "综合采样后，训练集 y_kos 中的分类情况：Counter({4.0: 5740, 6.0: 5669, 0.0: 5628, 11.0: 5340, 3.0: 5337, 7.0: 5196})\n"
     ]
    }
   ]
  },
  {
   "cell_type": "code",
   "source": [
    "print(type(x_kos))\n",
    "print(y_kos)\n",
    "df_smote = pd.concat([x_kos,y_kos],axis=1)\n",
    "#df_smote.to_csv('mobile-minority-smote.csv',index = None,encoding = 'utf8')"
   ],
   "metadata": {
    "id": "QJ0B4PT12_zc"
   },
   "execution_count": null,
   "outputs": []
  },
  {
   "cell_type": "markdown",
   "source": [
    "将合成好的和原来的一起拼接！"
   ],
   "metadata": {
    "id": "kNKPT--74toh"
   }
  },
  {
   "cell_type": "code",
   "source": [
    "df_3 = df.drop(df[(df['25']==0) | (df['25']==3) | (df['25']==4) | (df['25']==6)| (df['25']==7)| (df['25']==11)].index)\n",
    "df_all = pd.concat([df_smote,df_3],axis=0)\n",
    "df_all.to_csv('mobile-all-smote.csv',index = None,encoding = 'utf8')"
   ],
   "metadata": {
    "id": "H9WUI4kw4qib",
    "executionInfo": {
     "status": "ok",
     "timestamp": 1685068282140,
     "user_tz": -480,
     "elapsed": 4481,
     "user": {
      "displayName": "qing yang",
      "userId": "18395643287176615289"
     }
    }
   },
   "execution_count": 56,
   "outputs": []
  },
  {
   "cell_type": "code",
   "source": [
    "from imblearn.over_sampling import KMeansSMOTE\n",
    "from collections import Counter\n",
    "kos = KMeansSMOTE(random_state=40,sampling_strategy='all',k_neighbors=5)  # 综合采样\n",
    "x_kos1,y_kos1 = kos.fit_resample(x,y)\n",
    "print('综合采样后，训练集 y_kos 中的分类情况：{}'.format(Counter(y_kos1)))"
   ],
   "metadata": {
    "colab": {
     "base_uri": "https://localhost:8080/",
     "height": 439
    },
    "id": "ERZaD2gY2Lkq",
    "executionInfo": {
     "status": "error",
     "timestamp": 1685067632633,
     "user_tz": -480,
     "elapsed": 387,
     "user": {
      "displayName": "qing yang",
      "userId": "18395643287176615289"
     }
    },
    "outputId": "6e3d1398-cf50-4777-e488-ea2860d3486b"
   },
   "execution_count": 45,
   "outputs": [
    {
     "output_type": "stream",
     "name": "stderr",
     "text": [
      "/usr/local/lib/python3.10/dist-packages/sklearn/cluster/_kmeans.py:870: FutureWarning: The default value of `n_init` will change from 3 to 'auto' in 1.4. Set the value of `n_init` explicitly to suppress the warning\n",
      "  warnings.warn(\n"
     ]
    },
    {
     "output_type": "error",
     "ename": "RuntimeError",
     "evalue": "ignored",
     "traceback": [
      "\u001B[0;31m---------------------------------------------------------------------------\u001B[0m",
      "\u001B[0;31mRuntimeError\u001B[0m                              Traceback (most recent call last)",
      "\u001B[0;32m<ipython-input-45-a267b8a7fd07>\u001B[0m in \u001B[0;36m<cell line: 4>\u001B[0;34m()\u001B[0m\n\u001B[1;32m      2\u001B[0m \u001B[0;32mfrom\u001B[0m \u001B[0mcollections\u001B[0m \u001B[0;32mimport\u001B[0m \u001B[0mCounter\u001B[0m\u001B[0;34m\u001B[0m\u001B[0;34m\u001B[0m\u001B[0m\n\u001B[1;32m      3\u001B[0m \u001B[0mkos\u001B[0m \u001B[0;34m=\u001B[0m \u001B[0mKMeansSMOTE\u001B[0m\u001B[0;34m(\u001B[0m\u001B[0mrandom_state\u001B[0m\u001B[0;34m=\u001B[0m\u001B[0;36m40\u001B[0m\u001B[0;34m,\u001B[0m\u001B[0msampling_strategy\u001B[0m\u001B[0;34m=\u001B[0m\u001B[0;34m'all'\u001B[0m\u001B[0;34m,\u001B[0m\u001B[0mk_neighbors\u001B[0m\u001B[0;34m=\u001B[0m\u001B[0;36m5\u001B[0m\u001B[0;34m)\u001B[0m  \u001B[0;31m# 综合采样\u001B[0m\u001B[0;34m\u001B[0m\u001B[0;34m\u001B[0m\u001B[0m\n\u001B[0;32m----> 4\u001B[0;31m \u001B[0mx_kos1\u001B[0m\u001B[0;34m,\u001B[0m\u001B[0my_kos1\u001B[0m \u001B[0;34m=\u001B[0m \u001B[0mkos\u001B[0m\u001B[0;34m.\u001B[0m\u001B[0mfit_resample\u001B[0m\u001B[0;34m(\u001B[0m\u001B[0mx\u001B[0m\u001B[0;34m,\u001B[0m\u001B[0my\u001B[0m\u001B[0;34m)\u001B[0m\u001B[0;34m\u001B[0m\u001B[0;34m\u001B[0m\u001B[0m\n\u001B[0m\u001B[1;32m      5\u001B[0m \u001B[0mprint\u001B[0m\u001B[0;34m(\u001B[0m\u001B[0;34m'综合采样后，训练集 y_kos 中的分类情况：{}'\u001B[0m\u001B[0;34m.\u001B[0m\u001B[0mformat\u001B[0m\u001B[0;34m(\u001B[0m\u001B[0mCounter\u001B[0m\u001B[0;34m(\u001B[0m\u001B[0my_kos1\u001B[0m\u001B[0;34m)\u001B[0m\u001B[0;34m)\u001B[0m\u001B[0;34m)\u001B[0m\u001B[0;34m\u001B[0m\u001B[0;34m\u001B[0m\u001B[0m\n",
      "\u001B[0;32m/usr/local/lib/python3.10/dist-packages/imblearn/base.py\u001B[0m in \u001B[0;36mfit_resample\u001B[0;34m(self, X, y)\u001B[0m\n\u001B[1;32m    201\u001B[0m         \"\"\"\n\u001B[1;32m    202\u001B[0m         \u001B[0mself\u001B[0m\u001B[0;34m.\u001B[0m\u001B[0m_validate_params\u001B[0m\u001B[0;34m(\u001B[0m\u001B[0;34m)\u001B[0m\u001B[0;34m\u001B[0m\u001B[0;34m\u001B[0m\u001B[0m\n\u001B[0;32m--> 203\u001B[0;31m         \u001B[0;32mreturn\u001B[0m \u001B[0msuper\u001B[0m\u001B[0;34m(\u001B[0m\u001B[0;34m)\u001B[0m\u001B[0;34m.\u001B[0m\u001B[0mfit_resample\u001B[0m\u001B[0;34m(\u001B[0m\u001B[0mX\u001B[0m\u001B[0;34m,\u001B[0m \u001B[0my\u001B[0m\u001B[0;34m)\u001B[0m\u001B[0;34m\u001B[0m\u001B[0;34m\u001B[0m\u001B[0m\n\u001B[0m\u001B[1;32m    204\u001B[0m \u001B[0;34m\u001B[0m\u001B[0m\n\u001B[1;32m    205\u001B[0m     \u001B[0;32mdef\u001B[0m \u001B[0m_more_tags\u001B[0m\u001B[0;34m(\u001B[0m\u001B[0mself\u001B[0m\u001B[0;34m)\u001B[0m\u001B[0;34m:\u001B[0m\u001B[0;34m\u001B[0m\u001B[0;34m\u001B[0m\u001B[0m\n",
      "\u001B[0;32m/usr/local/lib/python3.10/dist-packages/imblearn/base.py\u001B[0m in \u001B[0;36mfit_resample\u001B[0;34m(self, X, y)\u001B[0m\n\u001B[1;32m     86\u001B[0m         )\n\u001B[1;32m     87\u001B[0m \u001B[0;34m\u001B[0m\u001B[0m\n\u001B[0;32m---> 88\u001B[0;31m         \u001B[0moutput\u001B[0m \u001B[0;34m=\u001B[0m \u001B[0mself\u001B[0m\u001B[0;34m.\u001B[0m\u001B[0m_fit_resample\u001B[0m\u001B[0;34m(\u001B[0m\u001B[0mX\u001B[0m\u001B[0;34m,\u001B[0m \u001B[0my\u001B[0m\u001B[0;34m)\u001B[0m\u001B[0;34m\u001B[0m\u001B[0;34m\u001B[0m\u001B[0m\n\u001B[0m\u001B[1;32m     89\u001B[0m \u001B[0;34m\u001B[0m\u001B[0m\n\u001B[1;32m     90\u001B[0m         y_ = (\n",
      "\u001B[0;32m/usr/local/lib/python3.10/dist-packages/imblearn/over_sampling/_smote/cluster.py\u001B[0m in \u001B[0;36m_fit_resample\u001B[0;34m(self, X, y)\u001B[0m\n\u001B[1;32m    263\u001B[0m \u001B[0;34m\u001B[0m\u001B[0m\n\u001B[1;32m    264\u001B[0m             \u001B[0;32mif\u001B[0m \u001B[0;32mnot\u001B[0m \u001B[0mvalid_clusters\u001B[0m\u001B[0;34m:\u001B[0m\u001B[0;34m\u001B[0m\u001B[0;34m\u001B[0m\u001B[0m\n\u001B[0;32m--> 265\u001B[0;31m                 raise RuntimeError(\n\u001B[0m\u001B[1;32m    266\u001B[0m                     \u001B[0;34mf\"No clusters found with sufficient samples of \"\u001B[0m\u001B[0;34m\u001B[0m\u001B[0;34m\u001B[0m\u001B[0m\n\u001B[1;32m    267\u001B[0m                     \u001B[0;34mf\"class {class_sample}. Try lowering the \"\u001B[0m\u001B[0;34m\u001B[0m\u001B[0;34m\u001B[0m\u001B[0m\n",
      "\u001B[0;31mRuntimeError\u001B[0m: No clusters found with sufficient samples of class 0.0. Try lowering the cluster_balance_threshold or increasing the number of clusters."
     ]
    }
   ]
  }
 ]
}
